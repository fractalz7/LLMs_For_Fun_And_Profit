{
  "nbformat": 4,
  "nbformat_minor": 0,
  "metadata": {
    "colab": {
      "provenance": []
    },
    "kernelspec": {
      "name": "python3",
      "display_name": "Python 3"
    },
    "language_info": {
      "name": "python"
    },
    "widgets": {
      "application/vnd.jupyter.widget-state+json": {
        "c97d28b95ce64cd29695167a38c0143d": {
          "model_module": "@jupyter-widgets/output",
          "model_name": "OutputModel",
          "model_module_version": "1.0.0",
          "state": {
            "_dom_classes": [],
            "_model_module": "@jupyter-widgets/output",
            "_model_module_version": "1.0.0",
            "_model_name": "OutputModel",
            "_view_count": null,
            "_view_module": "@jupyter-widgets/output",
            "_view_module_version": "1.0.0",
            "_view_name": "OutputView",
            "layout": "IPY_MODEL_86b170f7a69548ed8731fb8a575b1a0b",
            "msg_id": "",
            "outputs": [
              {
                "output_type": "stream",
                "name": "stdout",
                "text": [
                  "**Consolidated Summary Report**\n",
                  "\n",
                  "**Overview:**\n",
                  "The March 1, 2024, Monetary Policy Report from the Federal Reserve provides valuable insights into the current economic landscape, focusing on various sectors such as technology, inflation, consumer energy prices, labor market trends, wage growth, and housing market developments. The report also delves into interest rate forecasts and financial developments both domestically and internationally, emphasizing the Federal Open Market Committee's (FOMC) stance on monetary policy and its efforts to support economic growth while managing inflation.\n",
                  "\n",
                  "**Technology Sector:**\n",
                  "The report outlines the market trends in the technology sector, highlighting the growth opportunities in cloud computing, artificial intelligence, and cybersecurity. It emphasizes the increasing adoption of cloud services, the demand for AI technologies across different industries, and the rising importance of cybersecurity solutions in addressing security challenges. Companies in these subsectors are well-positioned for future growth and profitability.\n",
                  "\n",
                  "**Inflation and Consumer Energy Prices:**\n",
                  "Inflation has eased from its peak but remains above the Federal Reserve's target of 2 percent. The report notes that the price index for personal consumption expenditures (PCE) and core PCE price index have increased, influenced by factors such as consumer energy prices, which have declined recently. The moderation in oil prices and food price inflation has impacted overall inflation trends.\n",
                  "\n",
                  "**Labor Market Trends:**\n",
                  "The document highlights positive trends in the labor market, with record-high employment-to-population (EPOP) ratios for prime-age women and historical peaks in employment for Black or African American workers. The report underscores the narrowing of employment and earnings disparities across demographic groups, driven by tight labor market conditions and robust demand for workers.\n",
                  "\n",
                  "**Wage Growth and Productivity:**\n",
                  "Wage growth has slowed compared to the previous year but remains elevated. The report discusses the relationship between wage gains, productivity growth, and their impact on inflation. It acknowledges the importance of factors such as technology adoption and new business formation in boosting productivity growth in the coming years.\n",
                  "\n",
                  "**Housing Market Developments:**\n",
                  "The housing market has seen a shift towards new home sales due to homeowners with low mortgage rates being hesitant to move to homes with higher mortgage payments. This has led to a thin market for existing homes, impacting supply and demand dynamics. Home prices have fluctuated in response to interest rate changes, with house price growth bouncing back to near record highs.\n",
                  "\n",
                  "**Interest Rate Forecasts:**\n",
                  "Market-implied measures suggest an increase in the federal funds rate post the March 2024 FOMC meeting, with further projections indicating an upward trend throughout 2024 and 2025. Survey respondents and analysts have revised their expectations for the federal funds rate path compared to previous surveys, with notable changes in yield movements for long-term U.S. Treasury securities and corporate bonds. \n",
                  "\n",
                  "**Financial Developments and Bank Credit:**\n",
                  "Bank credit growth slowed in the latter half of 2023, influenced by higher interest rates, tighter credit availability, and economic uncertainties. The document discusses tightening lending standards, increased delinquency rates, and decreased bank profitability in the same period. Internationally, foreign economic growth decelerated due to various factors impacting credit growth and investments.\n",
                  "\n",
                  "**Federal Reserve's Monetary Policy Stance:**\n",
                  "The FOMC has maintained its target range for the federal funds rate since July 2023, viewing it as likely at its peak for the current tightening cycle. The Committee aims to achieve price stability and support strong labor market conditions while monitoring inflation risks closely. The document details the FOMC's actions regarding the reduction of its holdings of Treasury and agency securities and the implications on the Federal Reserve's balance sheet.\n",
                  "\n",
                  "**Economic Projections and Uncertainty:**\n",
                  "The report includes economic projections for key indicators such as real GDP growth, the unemployment rate, and inflation from 2023 to 2026 and the longer run. It provides insights into participants' assessments of appropriate monetary policy, reflecting various economic factors and potential risks. The document also discusses uncertainty and risks in economic projections, highlighting participants' views on forecast accuracy and confidence intervals for key economic variables.\n",
                  "\n",
                  "In conclusion, the March 1, 2024, Monetary Policy Report offers a comprehensive analysis of the current economic environment, providing critical information on employment trends, interest rate forecasts, inflation dynamics, and financial developments. The insights and projections outlined in the report are instrumental in guiding market participants, policymakers, and analysts in understanding the future path of the U.S. economy and financial markets. As a managing director at Goldman Sachs, staying informed about the key takeaways from this report will be vital for making informed investment decisions and strategic recommendations moving forward. \n",
                  "\n",
                  "**Word Count: 1036**\n"
                ]
              }
            ]
          }
        },
        "86b170f7a69548ed8731fb8a575b1a0b": {
          "model_module": "@jupyter-widgets/base",
          "model_name": "LayoutModel",
          "model_module_version": "1.2.0",
          "state": {
            "_model_module": "@jupyter-widgets/base",
            "_model_module_version": "1.2.0",
            "_model_name": "LayoutModel",
            "_view_count": null,
            "_view_module": "@jupyter-widgets/base",
            "_view_module_version": "1.2.0",
            "_view_name": "LayoutView",
            "align_content": null,
            "align_items": null,
            "align_self": null,
            "border": "1px solid black",
            "bottom": null,
            "display": null,
            "flex": null,
            "flex_flow": null,
            "grid_area": null,
            "grid_auto_columns": null,
            "grid_auto_flow": null,
            "grid_auto_rows": null,
            "grid_column": null,
            "grid_gap": null,
            "grid_row": null,
            "grid_template_areas": null,
            "grid_template_columns": null,
            "grid_template_rows": null,
            "height": null,
            "justify_content": null,
            "justify_items": null,
            "left": null,
            "margin": null,
            "max_height": null,
            "max_width": null,
            "min_height": null,
            "min_width": null,
            "object_fit": null,
            "object_position": null,
            "order": null,
            "overflow": null,
            "overflow_x": null,
            "overflow_y": null,
            "padding": null,
            "right": null,
            "top": null,
            "visibility": null,
            "width": null
          }
        }
      }
    }
  },
  "cells": [
    {
      "cell_type": "markdown",
      "source": [
        "**Author:** Ronny Ashar\n",
        "<br>\n",
        "**Date:** May 2024\n",
        "<br>\n",
        "**Description:** this notebook demonstrates using OpenAI and some basic prompt engineering for document summarization. Since we want to be able to summarize large documents which may exceed the token limits of some models, we summarize in chunks a few pages at a time, and then consolidate those into a final report\n",
        "<br>\n",
        "**Note:** some code copied and modified from #StanfordTech16 examples\n"
      ],
      "metadata": {
        "id": "iFtntBKaKWxy"
      }
    },
    {
      "cell_type": "code",
      "execution_count": 4,
      "metadata": {
        "id": "E7a4rVv22KLW",
        "colab": {
          "base_uri": "https://localhost:8080/"
        },
        "outputId": "f8926865-7e0b-42e2-fc05-d812f2b9b0b1"
      },
      "outputs": [
        {
          "output_type": "stream",
          "name": "stdout",
          "text": [
            "Requirement already satisfied: openai in /usr/local/lib/python3.10/dist-packages (1.30.1)\n",
            "Requirement already satisfied: anyio<5,>=3.5.0 in /usr/local/lib/python3.10/dist-packages (from openai) (3.7.1)\n",
            "Requirement already satisfied: distro<2,>=1.7.0 in /usr/lib/python3/dist-packages (from openai) (1.7.0)\n",
            "Requirement already satisfied: httpx<1,>=0.23.0 in /usr/local/lib/python3.10/dist-packages (from openai) (0.27.0)\n",
            "Requirement already satisfied: pydantic<3,>=1.9.0 in /usr/local/lib/python3.10/dist-packages (from openai) (2.7.1)\n",
            "Requirement already satisfied: sniffio in /usr/local/lib/python3.10/dist-packages (from openai) (1.3.1)\n",
            "Requirement already satisfied: tqdm>4 in /usr/local/lib/python3.10/dist-packages (from openai) (4.66.4)\n",
            "Requirement already satisfied: typing-extensions<5,>=4.7 in /usr/local/lib/python3.10/dist-packages (from openai) (4.11.0)\n",
            "Requirement already satisfied: idna>=2.8 in /usr/local/lib/python3.10/dist-packages (from anyio<5,>=3.5.0->openai) (3.7)\n",
            "Requirement already satisfied: exceptiongroup in /usr/local/lib/python3.10/dist-packages (from anyio<5,>=3.5.0->openai) (1.2.1)\n",
            "Requirement already satisfied: certifi in /usr/local/lib/python3.10/dist-packages (from httpx<1,>=0.23.0->openai) (2024.2.2)\n",
            "Requirement already satisfied: httpcore==1.* in /usr/local/lib/python3.10/dist-packages (from httpx<1,>=0.23.0->openai) (1.0.5)\n",
            "Requirement already satisfied: h11<0.15,>=0.13 in /usr/local/lib/python3.10/dist-packages (from httpcore==1.*->httpx<1,>=0.23.0->openai) (0.14.0)\n",
            "Requirement already satisfied: annotated-types>=0.4.0 in /usr/local/lib/python3.10/dist-packages (from pydantic<3,>=1.9.0->openai) (0.6.0)\n",
            "Requirement already satisfied: pydantic-core==2.18.2 in /usr/local/lib/python3.10/dist-packages (from pydantic<3,>=1.9.0->openai) (2.18.2)\n"
          ]
        }
      ],
      "source": [
        "!pip install openai"
      ]
    },
    {
      "cell_type": "markdown",
      "source": [
        "will need an OpenAI account to authenticate and use API Key\n",
        "refer to this documentation for setup instructions: https://platform.openai.com/docs/api-reference/introduction"
      ],
      "metadata": {
        "id": "ntZ-Bop-MkkZ"
      }
    },
    {
      "cell_type": "code",
      "source": [
        "from google.colab import userdata\n",
        "api_key = userdata.get('open_ai_key')"
      ],
      "metadata": {
        "id": "yXdcxZqJ2zR2"
      },
      "execution_count": 5,
      "outputs": []
    },
    {
      "cell_type": "code",
      "source": [
        "!pip install pypdf"
      ],
      "metadata": {
        "colab": {
          "base_uri": "https://localhost:8080/"
        },
        "id": "uQETWOJ8Hdfk",
        "outputId": "1cab4257-1044-48ab-c0e0-fa33c7286753"
      },
      "execution_count": 6,
      "outputs": [
        {
          "output_type": "stream",
          "name": "stdout",
          "text": [
            "Collecting pypdf\n",
            "  Downloading pypdf-4.2.0-py3-none-any.whl (290 kB)\n",
            "\u001b[?25l     \u001b[90m━━━━━━━━━━━━━━━━━━━━━━━━━━━━━━━━━━━━━━━━\u001b[0m \u001b[32m0.0/290.4 kB\u001b[0m \u001b[31m?\u001b[0m eta \u001b[36m-:--:--\u001b[0m\r\u001b[2K     \u001b[91m━━━━━\u001b[0m\u001b[91m╸\u001b[0m\u001b[90m━━━━━━━━━━━━━━━━━━━━━━━━━━━━━━━━━━\u001b[0m \u001b[32m41.0/290.4 kB\u001b[0m \u001b[31m1.5 MB/s\u001b[0m eta \u001b[36m0:00:01\u001b[0m\r\u001b[2K     \u001b[91m━━━━━━━━━━━━━━━━━━━━━━━━━━━━━━━━━━━━━━━\u001b[0m\u001b[90m╺\u001b[0m \u001b[32m286.7/290.4 kB\u001b[0m \u001b[31m4.7 MB/s\u001b[0m eta \u001b[36m0:00:01\u001b[0m\r\u001b[2K     \u001b[90m━━━━━━━━━━━━━━━━━━━━━━━━━━━━━━━━━━━━━━━━\u001b[0m \u001b[32m290.4/290.4 kB\u001b[0m \u001b[31m4.1 MB/s\u001b[0m eta \u001b[36m0:00:00\u001b[0m\n",
            "\u001b[?25hRequirement already satisfied: typing_extensions>=4.0 in /usr/local/lib/python3.10/dist-packages (from pypdf) (4.11.0)\n",
            "Installing collected packages: pypdf\n",
            "Successfully installed pypdf-4.2.0\n"
          ]
        }
      ]
    },
    {
      "cell_type": "code",
      "source": [
        "from openai import OpenAI\n",
        "import requests"
      ],
      "metadata": {
        "id": "aXBqpbwB6MVN"
      },
      "execution_count": 7,
      "outputs": []
    },
    {
      "cell_type": "code",
      "source": [
        "client = OpenAI(api_key=api_key)"
      ],
      "metadata": {
        "id": "zdcy2vRxAizl"
      },
      "execution_count": 8,
      "outputs": []
    },
    {
      "cell_type": "markdown",
      "source": [
        "We'll download the Federal Reserve's Monetory Policy Report which is a 71 page document, then use chunking to generate summaries for 5-page chunks, and then consolidate into a final report. In case of smaller documents chunking is not needed"
      ],
      "metadata": {
        "id": "YCwzRNKXNMim"
      }
    },
    {
      "cell_type": "code",
      "source": [
        "!curl  -o fed_notes.pdf https://www.federalreserve.gov/publications/files/20240301_mprfullreport.pdf"
      ],
      "metadata": {
        "colab": {
          "base_uri": "https://localhost:8080/"
        },
        "id": "VQygtamoKz2y",
        "outputId": "06e93141-b0ae-441b-b27e-3df1348ece55"
      },
      "execution_count": 9,
      "outputs": [
        {
          "output_type": "stream",
          "name": "stdout",
          "text": [
            "  % Total    % Received % Xferd  Average Speed   Time    Time     Time  Current\n",
            "                                 Dload  Upload   Total   Spent    Left  Speed\n",
            "\r  0     0    0     0    0     0      0      0 --:--:-- --:--:-- --:--:--     0\r100 5081k  100 5081k    0     0  31.0M      0 --:--:-- --:--:-- --:--:-- 31.2M\n"
          ]
        }
      ]
    },
    {
      "cell_type": "code",
      "source": [
        "def summarize_document(document):\n",
        "    # Call OpenAI API for summarization\n",
        "\n",
        "      summary = client.chat.completions.create(\n",
        "          model = \"gpt-3.5-turbo\",\n",
        "          #temperature=0.9,\n",
        "          #max_tokens=500,\n",
        "          messages = [\n",
        "              {\"role\": \"system\", \"content\": \"You are an analyst at Golamn Sachs summarizing sections of a document for a report your team will send to a managing director. Please summarize and be sure to include all relevant details\"},\n",
        "              {\"role\": \"user\", \"content\": document}\n",
        "          ]\n",
        "      )\n",
        "\n",
        "      return summary"
      ],
      "metadata": {
        "id": "Rcrt1XjlXQTH"
      },
      "execution_count": 10,
      "outputs": []
    },
    {
      "cell_type": "code",
      "source": [
        "from pypdf import PdfReader\n",
        "\n",
        "reader = PdfReader(\"fed_notes.pdf\")\n",
        "num_pages = len(reader.pages)"
      ],
      "metadata": {
        "id": "2INHUBoK5Q78"
      },
      "execution_count": 11,
      "outputs": []
    },
    {
      "cell_type": "code",
      "source": [
        "def getText(reader, start_page, end_page):\n",
        "      consolidated_text=''\n",
        "      for num in range(start_page, end_page+1):\n",
        "        page = reader.pages[start_page]\n",
        "        text = page.extract_text()\n",
        "        consolidated_text += text\n",
        "      return consolidated_text"
      ],
      "metadata": {
        "id": "MlV6UWJgNaPy"
      },
      "execution_count": 12,
      "outputs": []
    },
    {
      "cell_type": "markdown",
      "source": [
        "Note: below cell page range loop generated by ChatGPT, then I mad eminor edit to insert in the call to my summarize_document function"
      ],
      "metadata": {
        "id": "SEHjrP8ROrgF"
      }
    },
    {
      "cell_type": "code",
      "source": [
        "total_pages = num_pages\n",
        "pages_per_batch = 5\n",
        "\n",
        "summaries = ''\n",
        "for i in range(0, total_pages, pages_per_batch):\n",
        "    start_page = i\n",
        "    end_page = min(i + pages_per_batch - 1, total_pages)\n",
        "    print(f\"Summarizing pages {start_page} to {end_page}\")\n",
        "    summary = summarize_document(getText(reader, start_page, end_page))\n",
        "    summaries += (summary.choices[0].message.content)"
      ],
      "metadata": {
        "colab": {
          "base_uri": "https://localhost:8080/"
        },
        "id": "Pa3hcfDLLDSJ",
        "outputId": "aeec81c7-3349-42f7-dae1-88a1dbabe1f0"
      },
      "execution_count": 13,
      "outputs": [
        {
          "output_type": "stream",
          "name": "stdout",
          "text": [
            "Summarizing pages 0 to 4\n",
            "Summarizing pages 5 to 9\n",
            "Summarizing pages 10 to 14\n",
            "Summarizing pages 15 to 19\n",
            "Summarizing pages 20 to 24\n",
            "Summarizing pages 25 to 29\n",
            "Summarizing pages 30 to 34\n",
            "Summarizing pages 35 to 39\n",
            "Summarizing pages 40 to 44\n",
            "Summarizing pages 45 to 49\n",
            "Summarizing pages 50 to 54\n",
            "Summarizing pages 55 to 59\n",
            "Summarizing pages 60 to 64\n",
            "Summarizing pages 65 to 69\n",
            "Summarizing pages 70 to 71\n"
          ]
        }
      ]
    },
    {
      "cell_type": "markdown",
      "source": [
        "In the below cell we simply take the concatenated summaries and use the exact original prompt to have is do the consolidated summarization. We can contrast that with a few cells below where we provide more specific instructions regarding the format and length of consolidated report"
      ],
      "metadata": {
        "id": "XiWflolKPd3e"
      }
    },
    {
      "cell_type": "code",
      "source": [
        "consolidated_summary=summarize_document(summaries)"
      ],
      "metadata": {
        "id": "2x9UZt-BRNBL"
      },
      "execution_count": 14,
      "outputs": []
    },
    {
      "cell_type": "code",
      "source": [
        "print(consolidated_summary.choices[0].message.content)"
      ],
      "metadata": {
        "colab": {
          "base_uri": "https://localhost:8080/"
        },
        "id": "LUHChZmsS_Ft",
        "outputId": "b55aab92-3886-405b-8965-dce033372889"
      },
      "execution_count": 15,
      "outputs": [
        {
          "output_type": "stream",
          "name": "stdout",
          "text": [
            "The document provides a comprehensive overview of several key economic and financial aspects that are likely to be covered in the Federal Reserve's Monetary Policy Report for March 1, 2024. \n",
            "\n",
            "1. **Technology Sector Trends**: Discusses market trends in cloud computing, artificial intelligence, and cybersecurity, emphasizing opportunities for growth and profitability in these subsectors.\n",
            "\n",
            "2. **Inflation and Consumer Energy Prices**: Highlights that while inflation has eased from its peak, it remains above the Federal Open Market Committee's target of 2 percent. It also details the moderation in oil prices and the impact on consumer energy prices.\n",
            "\n",
            "3. **Labor Market Trends**: Examines employment patterns across different demographic groups, noting record highs in employment for prime-age women and decreasing gaps in employment ratios between various demographic groups.\n",
            "\n",
            "4. **Wage Growth and Productivity**: Wage growth has slowed compared to the previous year, but productivity growth has strengthened, potentially impacting inflation. Factors such as technological adoption and new business formation may boost productivity in the future.\n",
            "\n",
            "5. **Housing Market Developments**: Highlights challenges in the housing market, including reluctance among homeowners with low mortgage rates to move, leading to low supply and increased demand for new homes.\n",
            "\n",
            "6. **Interest Rate Projections**: Market-implied measures suggest an expected rise in the federal funds rate, with notable revisions compared to previous surveys. Long-term Treasury yields and corporate bond yields have fluctuated, while credit quality in corporate and municipal markets remains robust.\n",
            "\n",
            "7. **Bank Credit Growth and International Economic Trends**: Bank credit growth slowed in the second half of 2023, and foreign economic growth decelerated due to various factors such as monetary policy tightening and declining real household incomes.\n",
            "\n",
            "8. **Federal Open Market Committee Actions**: The FOMC has maintained the federal funds rate target range and actively reduced its holdings of securities to shrink its balance sheet. It continues to monitor inflation risks and adjusts policies accordingly.\n",
            "\n",
            "9. **Uncertainty and Risks**: Discusses uncertainties and risks in economic projections, highlighting the diverse views among participants and the importance of considering alternative economic outcomes.\n",
            "\n",
            "The report offers detailed insights into these areas and provides projections, historical data, and analysis that will be vital for investors and market participants in understanding the current economic landscape and potential future policy actions by the Federal Reserve.\n"
          ]
        }
      ]
    },
    {
      "cell_type": "code",
      "source": [
        "len(consolidated_summary.choices[0].message.content)"
      ],
      "metadata": {
        "colab": {
          "base_uri": "https://localhost:8080/"
        },
        "id": "3vU38vDoQAHO",
        "outputId": "c5826cdb-3d6b-40fd-df3e-03838169da7c"
      },
      "execution_count": 16,
      "outputs": [
        {
          "output_type": "execute_result",
          "data": {
            "text/plain": [
              "2655"
            ]
          },
          "metadata": {},
          "execution_count": 16
        }
      ]
    },
    {
      "cell_type": "markdown",
      "source": [
        "In the below cell our prompt is a bit more specific, asking for a 3-page summary"
      ],
      "metadata": {
        "id": "sVzQ3RY0QE7H"
      }
    },
    {
      "cell_type": "code",
      "source": [
        "summary_report = client.chat.completions.create(\n",
        "    model = \"gpt-3.5-turbo\",\n",
        "    #temperature=0.9,\n",
        "    #max_tokens=500,\n",
        "    messages = [\n",
        "        {\"role\": \"system\", \"content\": \"You are an analyst at Golamn Sachs preparing a consoliated summary report to send to a managing director. \\\n",
        "        Please do a 10-page summary including relevant details. Make sure the summary is at least 5000 word length. \\\n",
        "        Be sure to include details on employment trends and interest rate forecasts!\"},\n",
        "        {\"role\": \"user\", \"content\": summaries}\n",
        "    ]\n",
        ")"
      ],
      "metadata": {
        "id": "rRKhgw1rYLqc"
      },
      "execution_count": 17,
      "outputs": []
    },
    {
      "cell_type": "code",
      "source": [
        "from ipywidgets import widgets\n",
        "out = widgets.Output(layout={'border': '1px solid black'})"
      ],
      "metadata": {
        "id": "p8FphrdASqLN"
      },
      "execution_count": 18,
      "outputs": []
    },
    {
      "cell_type": "code",
      "source": [
        "with out:\n",
        "  print(summary_report.choices[0].message.content)\n",
        "\n",
        "out"
      ],
      "metadata": {
        "id": "FlbfGsAgLlgF",
        "colab": {
          "base_uri": "https://localhost:8080/",
          "height": 1000,
          "referenced_widgets": [
            "c97d28b95ce64cd29695167a38c0143d",
            "86b170f7a69548ed8731fb8a575b1a0b"
          ]
        },
        "outputId": "765f24cb-55e1-4c66-fca0-1c62012903a7"
      },
      "execution_count": 19,
      "outputs": [
        {
          "output_type": "display_data",
          "data": {
            "text/plain": [
              "Output(layout=Layout(border='1px solid black'))"
            ],
            "application/vnd.jupyter.widget-view+json": {
              "version_major": 2,
              "version_minor": 0,
              "model_id": "c97d28b95ce64cd29695167a38c0143d"
            }
          },
          "metadata": {}
        }
      ]
    },
    {
      "cell_type": "code",
      "source": [
        "len(summary_report.choices[0].message.content)"
      ],
      "metadata": {
        "id": "pMPS08WaSV7c",
        "colab": {
          "base_uri": "https://localhost:8080/"
        },
        "outputId": "2a4ed8d1-6e66-4c88-a257-e54d0ab022b3"
      },
      "execution_count": 20,
      "outputs": [
        {
          "output_type": "execute_result",
          "data": {
            "text/plain": [
              "5303"
            ]
          },
          "metadata": {},
          "execution_count": 20
        }
      ]
    },
    {
      "cell_type": "code",
      "source": [
        "summary_report = client.chat.completions.create(\n",
        "    model = \"gpt-3.5-turbo\",\n",
        "    temperature=0.8,\n",
        "    #max_tokens=500,\n",
        "    messages = [\n",
        "        {\"role\": \"system\", \"content\": \"You are a professor trying to make a finance and economics class fun for your students. Please do a summary sonnet in the style of shakespeare\\\n",
        "        Be sure to include details on employment trends and interest rate forecasts!\"},\n",
        "        {\"role\": \"user\", \"content\": summaries}\n",
        "    ]\n",
        ")"
      ],
      "metadata": {
        "id": "DOgcyR7hQhpL"
      },
      "execution_count": 21,
      "outputs": []
    },
    {
      "cell_type": "code",
      "source": [
        "print(summary_report.choices[0].message.content)\n"
      ],
      "metadata": {
        "colab": {
          "base_uri": "https://localhost:8080/"
        },
        "id": "Ig8EKQotfpsY",
        "outputId": "964f3d63-2de4-4ae5-e718-d4a49693a543"
      },
      "execution_count": 23,
      "outputs": [
        {
          "output_type": "stream",
          "name": "stdout",
          "text": [
            "In realms of finance and markets so grand,\n",
            "The Monetary Policy Report doth stand,\n",
            "Interest rates and trends of employment strong,\n",
            "A sonnet for students, a merry song.\n",
            "\n",
            "Technological trends in cloud and AI,\n",
            "Employment rises, reaching for the sky,\n",
            "Cybersecurity, a vital need,\n",
            "For companies to prosper, to succeed.\n",
            "\n",
            "Inflation eases, yet remains quite high,\n",
            "Interest rates forecasted to the sky,\n",
            "The labor market, trends of varied kind,\n",
            "Equality in work, a goal enshrined.\n",
            "\n",
            "To make finance fun for students keen,\n",
            "Economics and markets, a vibrant scene.\n"
          ]
        }
      ]
    },
    {
      "cell_type": "code",
      "source": [],
      "metadata": {
        "id": "x1Z1mcsQlTyf"
      },
      "execution_count": null,
      "outputs": []
    }
  ]
}