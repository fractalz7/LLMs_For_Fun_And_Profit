{
  "nbformat": 4,
  "nbformat_minor": 0,
  "metadata": {
    "colab": {
      "provenance": []
    },
    "kernelspec": {
      "name": "python3",
      "display_name": "Python 3"
    },
    "language_info": {
      "name": "python"
    },
  },
  "cells": [
    {
      "cell_type": "markdown",
      "source": [
        "**Author:** Ronny Ashar\n",
        "<br>\n",
        "**Date:** May 2024\n",
        "<br>\n",
        "**Description:** this notebook demonstrates using OpenAI and some basic prompt engineering for document summarization. Since we want to be able to summarize large documents which may exceed the token limits of some models, we summarize in chunks a few pages at a time, and then consolidate those into a final report\n",
        "<br>\n",
        "**Note:** some code copied and modified from #StanfordTech16 examples\n"
      ],
      "metadata": {
        "id": "iFtntBKaKWxy"
      }
    },
    {
      "cell_type": "code",
      "execution_count": 1,
      "metadata": {
        "id": "E7a4rVv22KLW",
        "colab": {
          "base_uri": "https://localhost:8080/"
        },
        "outputId": "c36ed8ca-3bcc-4765-e7fc-f911b603547d"
      },
      "outputs": [
        {
          "output_type": "stream",
          "name": "stdout",
          "text": [
            "Collecting openai\n",
            "  Downloading openai-1.30.5-py3-none-any.whl (320 kB)\n",
            "\u001b[2K     \u001b[90m━━━━━━━━━━━━━━━━━━━━━━━━━━━━━━━━━━━━━━━━\u001b[0m \u001b[32m320.7/320.7 kB\u001b[0m \u001b[31m2.2 MB/s\u001b[0m eta \u001b[36m0:00:00\u001b[0m\n",
            "\u001b[?25hRequirement already satisfied: anyio<5,>=3.5.0 in /usr/local/lib/python3.10/dist-packages (from openai) (3.7.1)\n",
            "Requirement already satisfied: distro<2,>=1.7.0 in /usr/lib/python3/dist-packages (from openai) (1.7.0)\n",
            "Collecting httpx<1,>=0.23.0 (from openai)\n",
            "  Downloading httpx-0.27.0-py3-none-any.whl (75 kB)\n",
            "\u001b[2K     \u001b[90m━━━━━━━━━━━━━━━━━━━━━━━━━━━━━━━━━━━━━━━━\u001b[0m \u001b[32m75.6/75.6 kB\u001b[0m \u001b[31m3.3 MB/s\u001b[0m eta \u001b[36m0:00:00\u001b[0m\n",
            "\u001b[?25hRequirement already satisfied: pydantic<3,>=1.9.0 in /usr/local/lib/python3.10/dist-packages (from openai) (2.7.1)\n",
            "Requirement already satisfied: sniffio in /usr/local/lib/python3.10/dist-packages (from openai) (1.3.1)\n",
            "Requirement already satisfied: tqdm>4 in /usr/local/lib/python3.10/dist-packages (from openai) (4.66.4)\n",
            "Requirement already satisfied: typing-extensions<5,>=4.7 in /usr/local/lib/python3.10/dist-packages (from openai) (4.11.0)\n",
            "Requirement already satisfied: idna>=2.8 in /usr/local/lib/python3.10/dist-packages (from anyio<5,>=3.5.0->openai) (3.7)\n",
            "Requirement already satisfied: exceptiongroup in /usr/local/lib/python3.10/dist-packages (from anyio<5,>=3.5.0->openai) (1.2.1)\n",
            "Requirement already satisfied: certifi in /usr/local/lib/python3.10/dist-packages (from httpx<1,>=0.23.0->openai) (2024.2.2)\n",
            "Collecting httpcore==1.* (from httpx<1,>=0.23.0->openai)\n",
            "  Downloading httpcore-1.0.5-py3-none-any.whl (77 kB)\n",
            "\u001b[2K     \u001b[90m━━━━━━━━━━━━━━━━━━━━━━━━━━━━━━━━━━━━━━━━\u001b[0m \u001b[32m77.9/77.9 kB\u001b[0m \u001b[31m3.3 MB/s\u001b[0m eta \u001b[36m0:00:00\u001b[0m\n",
            "\u001b[?25hCollecting h11<0.15,>=0.13 (from httpcore==1.*->httpx<1,>=0.23.0->openai)\n",
            "  Downloading h11-0.14.0-py3-none-any.whl (58 kB)\n",
            "\u001b[2K     \u001b[90m━━━━━━━━━━━━━━━━━━━━━━━━━━━━━━━━━━━━━━━━\u001b[0m \u001b[32m58.3/58.3 kB\u001b[0m \u001b[31m2.0 MB/s\u001b[0m eta \u001b[36m0:00:00\u001b[0m\n",
            "\u001b[?25hRequirement already satisfied: annotated-types>=0.4.0 in /usr/local/lib/python3.10/dist-packages (from pydantic<3,>=1.9.0->openai) (0.7.0)\n",
            "Requirement already satisfied: pydantic-core==2.18.2 in /usr/local/lib/python3.10/dist-packages (from pydantic<3,>=1.9.0->openai) (2.18.2)\n",
            "Installing collected packages: h11, httpcore, httpx, openai\n",
            "Successfully installed h11-0.14.0 httpcore-1.0.5 httpx-0.27.0 openai-1.30.5\n"
          ]
        }
      ],
      "source": [
        "!pip install openai"
      ]
    },
    {
      "cell_type": "markdown",
      "source": [
        "will need an OpenAI account to authenticate and use API Key\n",
        "refer to this documentation for setup instructions: https://platform.openai.com/docs/api-reference/introduction"
      ],
      "metadata": {
        "id": "ntZ-Bop-MkkZ"
      }
    },
    {
      "cell_type": "code",
      "source": [
        "from google.colab import userdata\n",
        "api_key = userdata.get('open_ai_key')"
      ],
      "metadata": {
        "id": "yXdcxZqJ2zR2"
      },
      "execution_count": 2,
      "outputs": []
    },
    {
      "cell_type": "code",
      "source": [
        "!pip install pypdf"
      ],
      "metadata": {
        "colab": {
          "base_uri": "https://localhost:8080/"
        },
        "id": "uQETWOJ8Hdfk",
        "outputId": "a66b05fd-b638-4995-a4d8-2bf763655cad"
      },
      "execution_count": 3,
      "outputs": [
        {
          "output_type": "stream",
          "name": "stdout",
          "text": [
            "Collecting pypdf\n",
            "  Downloading pypdf-4.2.0-py3-none-any.whl (290 kB)\n",
            "\u001b[2K     \u001b[90m━━━━━━━━━━━━━━━━━━━━━━━━━━━━━━━━━━━━━━━━\u001b[0m \u001b[32m290.4/290.4 kB\u001b[0m \u001b[31m2.0 MB/s\u001b[0m eta \u001b[36m0:00:00\u001b[0m\n",
            "\u001b[?25hRequirement already satisfied: typing_extensions>=4.0 in /usr/local/lib/python3.10/dist-packages (from pypdf) (4.11.0)\n",
            "Installing collected packages: pypdf\n",
            "Successfully installed pypdf-4.2.0\n"
          ]
        }
      ]
    },
    {
      "cell_type": "code",
      "source": [
        "from openai import OpenAI\n",
        "import requests"
      ],
      "metadata": {
        "id": "aXBqpbwB6MVN"
      },
      "execution_count": 4,
      "outputs": []
    },
    {
      "cell_type": "code",
      "source": [
        "client = OpenAI(api_key=api_key)"
      ],
      "metadata": {
        "id": "zdcy2vRxAizl"
      },
      "execution_count": 5,
      "outputs": []
    },
    {
      "cell_type": "markdown",
      "source": [
        "We'll download the Federal Reserve's Monetory Policy Report which is a 71 page document, then use chunking to generate summaries for 5-page chunks, and then consolidate into a final report. In case of smaller documents chunking is not needed"
      ],
      "metadata": {
        "id": "YCwzRNKXNMim"
      }
    },
    {
      "cell_type": "code",
      "source": [
        "!curl  -o fed_notes.pdf https://www.federalreserve.gov/publications/files/20240301_mprfullreport.pdf"
      ],
      "metadata": {
        "colab": {
          "base_uri": "https://localhost:8080/"
        },
        "id": "VQygtamoKz2y",
        "outputId": "e602c61d-2ed0-4c71-97c5-7fbaa05a700d"
      },
      "execution_count": 6,
      "outputs": [
        {
          "output_type": "stream",
          "name": "stdout",
          "text": [
            "  % Total    % Received % Xferd  Average Speed   Time    Time     Time  Current\n",
            "                                 Dload  Upload   Total   Spent    Left  Speed\n",
            "100 5081k  100 5081k    0     0  14.7M      0 --:--:-- --:--:-- --:--:-- 14.7M\n"
          ]
        }
      ]
    },
    {
      "cell_type": "code",
      "source": [
        "def summarize_document(document):\n",
        "    # Call OpenAI API for summarization\n",
        "\n",
        "      summary = client.chat.completions.create(\n",
        "          model = \"gpt-3.5-turbo\",\n",
        "          #temperature=0.9,\n",
        "          #max_tokens=500,\n",
        "          messages = [\n",
        "              {\"role\": \"system\", \"content\": \"You are an analyst at Golamn Sachs summarizing sections of a document for a report your team will send to a managing director. Please summarize and be sure to include all relevant details\"},\n",
        "              {\"role\": \"user\", \"content\": document}\n",
        "          ]\n",
        "      )\n",
        "\n",
        "      return summary"
      ],
      "metadata": {
        "id": "Rcrt1XjlXQTH"
      },
      "execution_count": 7,
      "outputs": []
    },
    {
      "cell_type": "code",
      "source": [
        "from pypdf import PdfReader\n",
        "\n",
        "reader = PdfReader(\"fed_notes.pdf\")\n",
        "num_pages = len(reader.pages)"
      ],
      "metadata": {
        "id": "2INHUBoK5Q78"
      },
      "execution_count": 8,
      "outputs": []
    },
    {
      "cell_type": "code",
      "source": [
        "def getText(reader, start_page, end_page):\n",
        "      consolidated_text=''\n",
        "      for num in range(start_page, end_page+1):\n",
        "        page = reader.pages[start_page]\n",
        "        text = page.extract_text()\n",
        "        consolidated_text += text\n",
        "      return consolidated_text"
      ],
      "metadata": {
        "id": "MlV6UWJgNaPy"
      },
      "execution_count": 9,
      "outputs": []
    },
    {
      "cell_type": "markdown",
      "source": [
        "Note: below cell page range loop generated by ChatGPT, then I mad eminor edit to insert in the call to my summarize_document function"
      ],
      "metadata": {
        "id": "SEHjrP8ROrgF"
      }
    },
    {
      "cell_type": "code",
      "source": [
        "total_pages = num_pages\n",
        "pages_per_batch = 5\n",
        "\n",
        "summaries = ''\n",
        "for i in range(0, total_pages, pages_per_batch):\n",
        "    start_page = i\n",
        "    end_page = min(i + pages_per_batch - 1, total_pages)\n",
        "    print(f\"Summarizing pages {start_page} to {end_page}\")\n",
        "    summary = summarize_document(getText(reader, start_page, end_page))\n",
        "    summaries += (summary.choices[0].message.content)"
      ],
      "metadata": {
        "colab": {
          "base_uri": "https://localhost:8080/"
        },
        "id": "Pa3hcfDLLDSJ",
        "outputId": "4c136008-c208-4796-dc25-66802cd5897c"
      },
      "execution_count": 10,
      "outputs": [
        {
          "output_type": "stream",
          "name": "stdout",
          "text": [
            "Summarizing pages 0 to 4\n",
            "Summarizing pages 5 to 9\n",
            "Summarizing pages 10 to 14\n",
            "Summarizing pages 15 to 19\n",
            "Summarizing pages 20 to 24\n",
            "Summarizing pages 25 to 29\n",
            "Summarizing pages 30 to 34\n",
            "Summarizing pages 35 to 39\n",
            "Summarizing pages 40 to 44\n",
            "Summarizing pages 45 to 49\n",
            "Summarizing pages 50 to 54\n",
            "Summarizing pages 55 to 59\n",
            "Summarizing pages 60 to 64\n",
            "Summarizing pages 65 to 69\n",
            "Summarizing pages 70 to 71\n"
          ]
        }
      ]
    },
    {
      "cell_type": "markdown",
      "source": [
        "In the below cell we simply take the concatenated summaries and use the exact original prompt to have is do the consolidated summarization. We can contrast that with a few cells below where we provide more specific instructions regarding the format and length of consolidated report"
      ],
      "metadata": {
        "id": "XiWflolKPd3e"
      }
    },
    {
      "cell_type": "code",
      "source": [
        "consolidated_summary=summarize_document(summaries)"
      ],
      "metadata": {
        "id": "2x9UZt-BRNBL"
      },
      "execution_count": 11,
      "outputs": []
    },
    {
      "cell_type": "code",
      "source": [
        "print(consolidated_summary.choices[0].message.content)"
      ],
      "metadata": {
        "colab": {
          "base_uri": "https://localhost:8080/"
        },
        "id": "LUHChZmsS_Ft",
        "outputId": "8b79709b-f164-469f-df9e-b55f9735842f"
      },
      "execution_count": 12,
      "outputs": [
        {
          "output_type": "stream",
          "name": "stdout",
          "text": [
            "The March 1, 2024 Monetary Policy Report by the Federal Reserve highlights various key aspects that offer insights into the current economic landscape and the Federal Reserve's monetary policy stance:\n",
            "\n",
            "- **Technology Sector:** The report discusses market trends in the technology sector, focusing on major players like Apple, Amazon, and Microsoft. It mentions the impact of the chip shortage on semiconductor companies and the competitive dynamics in cloud computing.\n",
            "\n",
            "- **Inflation and Energy Prices:** Inflation has moderated but remains elevated, with PCE prices rising by 2.4% over the past 12 months. The report notes a decrease in consumer energy prices but geopolitical tensions influencing oil prices and a notable slowdown in food price inflation.\n",
            "\n",
            "- **Labor Market:** The report highlights improvements in labor force participation among prime-age women, leading to record employment-to-population ratios. It also mentions historic peaks in employment for Black or African American workers, narrowing employment gaps across demographic groups.\n",
            "\n",
            "- **Wage Growth and Productivity:** The report indicates a slowdown in wage growth in 2023 despite remaining elevated. Labor productivity in the business sector showed significant improvement in 2023, driven by various factors including technological advancements.\n",
            "\n",
            "- **Housing Market:** The housing market has seen limited supply of existing homes for sale due to homeowners with low mortgage rates opting to stay put. House price growth initially slowed but rebounded, with new homebuilders attracting buyers.\n",
            "\n",
            "- **Monetary Policy Expectations:** Market-implied measures suggest a federal funds rate of about 4.6% post-FOMC meeting and around 3.7% by end of 2025. Survey respondents anticipate a gradual decrease in policy rates in 2024.\n",
            "\n",
            "- **Banking Sector and Financial Developments:** The report notes a shift in funds from banking sector deposits, increased maturities for Money Market Funds, slowed bank credit growth, and tightened loan standards. Delinquency rates rose, impacting bank profitability.\n",
            "\n",
            "- **Federal Reserve Policy Actions:** The FOMC has maintained the federal funds rate range at 5¼ to 5½ percent since July 2023, believing it's at the peak for the tightening cycle. The Fed continues to reduce its balance sheet holdings and manages a deferred asset to resume Treasury remittances.\n",
            "\n",
            "- **Economic Projections:** The report includes economic forecasts by FOMC participants for GDP growth, unemployment rate, and inflation through 2026. It emphasizes the uncertainties inherent in such projections and the considerations made by policymakers in monetary policy decisions.\n",
            "\n",
            "- **PCE Inflation Projections:** Projections for PCE inflation for the years ahead and over the longer run indicate participants' perspectives on inflation trends, with considerations for uncertainty and risks.\n",
            "\n",
            "- **Forecast Uncertainty:** Discussions revolve around the uncertainty surrounding economic projections, highlighting the need to account for unforeseen developments and alternative possibilities in decision-making.\n",
            "\n",
            "The Monetary Policy Report serves as a critical source of information for understanding the Federal Reserve's perspectives on the economy, policy actions, and potential implications for financial markets and the broader economic landscape. It provides valuable insights for decision-making and investment strategies.\n"
          ]
        }
      ]
    },
    {
      "cell_type": "code",
      "source": [
        "len(consolidated_summary.choices[0].message.content)"
      ],
      "metadata": {
        "colab": {
          "base_uri": "https://localhost:8080/"
        },
        "id": "3vU38vDoQAHO",
        "outputId": "f0a57121-7aa3-407c-9dbc-1bc01556d100"
      },
      "execution_count": 13,
      "outputs": [
        {
          "output_type": "execute_result",
          "data": {
            "text/plain": [
              "3397"
            ]
          },
          "metadata": {},
          "execution_count": 13
        }
      ]
    },
    {
      "cell_type": "markdown",
      "source": [
        "In the below cell our prompt is a bit more specific, asking for a 3-page summary"
      ],
      "metadata": {
        "id": "sVzQ3RY0QE7H"
      }
    },
    {
      "cell_type": "code",
      "source": [
        "summary_report = client.chat.completions.create(\n",
        "    model = \"gpt-3.5-turbo\",\n",
        "    #temperature=0.9,\n",
        "    #max_tokens=500,\n",
        "    messages = [\n",
        "        {\"role\": \"system\", \"content\": \"You are an analyst at Golamn Sachs preparing a consoliated summary report to send to a managing director. \\\n",
        "        You have already summarized sections of the 71-page report, highlighting significant details. You can now take those notes and collate \\\n",
        "        into a comprehensive report, including relevant details, preferably a short paragraph on significant trends such as technology or real estate.\\\n",
        "        Remember the MD is already very familiar with what goes into these reports year on year, make sure the summary you generate is meaningful for this savvy audience!!\\\n",
        "        Make sure the summary is at least 10 pages or 7500 word length! Be certain to include numeric data such as actual rate increase forecasts or\\\n",
        "        inflation percentages!\"},\n",
        "        {\"role\": \"user\", \"content\": summaries}\n",
        "    ]\n",
        ")"
      ],
      "metadata": {
        "id": "rRKhgw1rYLqc"
      },
      "execution_count": 47,
      "outputs": []
    },
    {
      "cell_type": "code",
      "source": [
        "from ipywidgets import widgets\n",
        "out = widgets.Output(layout={'border': '1px solid black'})"
      ],
      "metadata": {
        "id": "p8FphrdASqLN"
      },
      "execution_count": 48,
      "outputs": []
    },
    {
      "cell_type": "code",
      "source": [
        "with out:\n",
        "  print(summary_report.choices[0].message.content)\n",
        "\n",
        "out"
      ],
      "metadata": {
        "id": "FlbfGsAgLlgF",
        "colab": {
          "base_uri": "https://localhost:8080/",
          "height": 605,
          "referenced_widgets": [
            "723416f62f994b1a9a737ba7f9efed6e",
            "036f2bdf0ee0468f922e74601b2611c4"
          ]
        },
        "outputId": "60f760bd-0581-445d-f700-4e7736e64822"
      },
      "execution_count": 49,
      "outputs": [
        {
          "output_type": "display_data",
          "data": {
            "text/plain": [
              "Output(layout=Layout(border='1px solid black'))"
            ],
            "application/vnd.jupyter.widget-view+json": {
              "version_major": 2,
              "version_minor": 0,
              "model_id": "723416f62f994b1a9a737ba7f9efed6e"
            }
          },
          "metadata": {}
        }
      ]
    },
    {
      "cell_type": "code",
      "source": [
        "print(summary_report.choices[0].message.content)"
      ],
      "metadata": {
        "colab": {
          "base_uri": "https://localhost:8080/"
        },
        "id": "64cYlUNTmPG2",
        "outputId": "e2c86c4a-c8aa-4cac-fed5-d6d988b98ece"
      },
      "execution_count": 50,
      "outputs": [
        {
          "output_type": "stream",
          "name": "stdout",
          "text": [
            "**Consolidated Summary Report for Managing Director**\n",
            "\n",
            "\n",
            "The March 2024 Monetary Policy Report by the Federal Reserve offers a comprehensive view of the current economic landscape. In the technology sector, the report emphasizes the challenges posed by the ongoing chip shortage to companies like Apple, Amazon, and Microsoft, along with the competitive dynamics in cloud computing. This information is vital for making informed investment decisions in the tech industry.\n",
            "\n",
            "Regarding domestic developments, the report indicates a moderation in inflation but at elevated levels. Inflation, measured by the PCE price index, remains above the Federal Reserve's target of 2%. However, consumer energy prices have decreased, while food price inflation has slowed notably. Factors such as oil prices and geopolitical tensions continue to influence these trends.\n",
            "\n",
            "The report also covers significant labor market dynamics, including the record-high employment-to-population ratio for prime-age women in 2023 and narrowing gaps in employment ratios among different demographic groups. It highlights the impact of educational attainment and remote work options on labor force participation.\n",
            "\n",
            "Wage growth, though slower in 2023, remains elevated. The productivity landscape saw improvement, with labor productivity in the business sector showing a significant increase in 2023, driven by factors like technology adoption and new business formation post-pandemic.\n",
            "\n",
            "In the housing market, low mortgage rates have led to homeowners staying put, reducing the supply of existing homes for sale. This trend, coupled with varying effects on house prices and sales figures, points to a complex interaction between demand, supply, and pricing in the housing sector.\n",
            "\n",
            "The report also sheds light on expectations for the federal funds rate, with market measures suggesting specific rate ranges post-FOMC meetings and by the end of 2025. Moreover, insights into Treasury yields, corporate bond yields, and other long-term debt indicate fluctuations in the market aligned with economic conditions.\n",
            "\n",
            "An analysis of recent economic and financial developments reveals insights on bank credit growth, loan categories, bank profitability, foreign economic growth, and economic indicators for foreign economies. The document indicates continued weakness in advanced foreign economies in early 2024.\n",
            "\n",
            "The FOMC's stance on maintaining the federal funds rate target range, reduction in holdings of Treasury and agency securities, deferred assets, and risks associated with inflation and economic projections are crucial aspects outlined in the report. Participants' economic projections focus on real GDP growth, unemployment rates, inflation, and PCE inflation, highlighting the uncertainties and risks associated with these forecasts.\n",
            "\n",
            "In conclusion, the March 2024 Monetary Policy Report provides a detailed analysis of key economic indicators, market trends, and monetary policy actions, essential for shaping investment strategies, policy decisions, and understanding the economic landscape in the coming years. This consolidated summary equips decision-makers with valuable insights for navigating the ever-evolving financial environment.\n"
          ]
        }
      ]
    },
    {
      "cell_type": "code",
      "source": [
        "len(summary_report.choices[0].message.content)"
      ],
      "metadata": {
        "id": "pMPS08WaSV7c",
        "colab": {
          "base_uri": "https://localhost:8080/"
        },
        "outputId": "97fe74e1-27a0-4b17-ee4e-a0e2d6ec5cbd"
      },
      "execution_count": 51,
      "outputs": [
        {
          "output_type": "execute_result",
          "data": {
            "text/plain": [
              "3209"
            ]
          },
          "metadata": {},
          "execution_count": 51
        }
      ]
    },
    {
      "cell_type": "code",
      "source": [
        "summary_report = client.chat.completions.create(\n",
        "    model = \"gpt-3.5-turbo\",\n",
        "    temperature=0.8,\n",
        "    #max_tokens=500,\n",
        "    messages = [\n",
        "        {\"role\": \"system\", \"content\": \"You are a professor trying to make a finance and economics class fun for your students. Please do a summary sonnet in the style of shakespeare\\\n",
        "        Be sure to include details on employment trends and interest rate forecasts!\"},\n",
        "        {\"role\": \"user\", \"content\": summaries}\n",
        "    ]\n",
        ")"
      ],
      "metadata": {
        "id": "DOgcyR7hQhpL"
      },
      "execution_count": 40,
      "outputs": []
    },
    {
      "cell_type": "code",
      "source": [
        "print(summary_report.choices[0].message.content)\n"
      ],
      "metadata": {
        "colab": {
          "base_uri": "https://localhost:8080/"
        },
        "id": "Ig8EKQotfpsY",
        "outputId": "aa0757f6-cb12-4040-b0b5-50d8a9d62e06"
      },
      "execution_count": 41,
      "outputs": [
        {
          "output_type": "stream",
          "name": "stdout",
          "text": [
            "In merry March of twenty twenty-four,\n",
            "The Federal Reserve's report is in store,\n",
            "Employment trends and rates of interest,\n",
            "Shakespearean sonnet, let's make it zest!\n",
            "\n",
            "The tech sector's performance takes the stage,\n",
            "Chip shortage woes and cloud computing's rage,\n",
            "Inflation's tamed but still holds its might,\n",
            "Interest rates forecast, a crucial sight.\n",
            "\n",
            "Prime-age women see employment climb,\n",
            "Black workers too, in this joyful time,\n",
            "Hispanic workers, a steady gain,\n",
            "Economic growth, a welcome refrain.\n",
            "\n",
            "Housing market dances, rates below four,\n",
            "Buyers linger, sales figures adore,\n",
            "Finance and economy, a tale to tell,\n",
            "Monetary policy, we know so well.\n",
            "\n",
            "So gather 'round, my students dear and bright,\n",
            "Let's navigate this economic flight.\n"
          ]
        }
      ]
    },
    {
      "cell_type": "code",
      "source": [
        "summary_report = client.chat.completions.create(\n",
        "    model = \"gpt-3.5-turbo\",\n",
        "    temperature=0.9,\n",
        "    #max_tokens=500,\n",
        "    messages = [\n",
        "        {\"role\": \"system\", \"content\": \"You are a Brown University undergrad, double majoring in literature and economics.\\\n",
        "        John Ashberry and Jeffrey Sachs are some of your heroes. Please do a summary vilanelle\\\n",
        "        Be sure to include details on employment trends and interest rate forecasts!\"},\n",
        "        {\"role\": \"user\", \"content\": summaries}\n",
        "    ]\n",
        ")"
      ],
      "metadata": {
        "id": "x1Z1mcsQlTyf"
      },
      "execution_count": 44,
      "outputs": []
    },
    {
      "cell_type": "code",
      "source": [
        "print(summary_report.choices[0].message.content)"
      ],
      "metadata": {
        "colab": {
          "base_uri": "https://localhost:8080/"
        },
        "id": "JJeYbC2tvvD8",
        "outputId": "34bfacaf-732e-4b22-9bee-967f599e3cbc"
      },
      "execution_count": 45,
      "outputs": [
        {
          "output_type": "stream",
          "name": "stdout",
          "text": [
            "In circles of currency and fate we dance,\n",
            "A narrative in numbers we enhance,\n",
            "Employment trends and rates we keenly glance.\n",
            "\n",
            "The Board's Report, a monetary romance,\n",
            "Released on March's first advance,\n",
            "In circles of currency and fate we dance.\n",
            "\n",
            "Interest rates and inflation's stance,\n",
            "Economic insights we enhance,\n",
            "Employment trends and rates we keenly glance.\n",
            "\n",
            "The Fed's perspective, a financial expanse,\n",
            "Technological giants' performance, a chance,\n",
            "In circles of currency and fate we dance.\n",
            "\n",
            "Labor participation, a new enhance,\n",
            "A record high, a hopeful trance,\n",
            "Employment trends and rates we keenly glance.\n",
            "\n",
            "Forecasting the future's intricate lance,\n",
            "With Ashberry and Sachs in our trance,\n",
            "In circles of currency and fate we dance,\n",
            "Employment trends and rates we keenly glance.\n"
          ]
        }
      ]
    },
    {
      "cell_type": "code",
      "source": [],
      "metadata": {
        "id": "95lapgSGv0CN"
      },
      "execution_count": null,
      "outputs": []
    }
  ]
}
