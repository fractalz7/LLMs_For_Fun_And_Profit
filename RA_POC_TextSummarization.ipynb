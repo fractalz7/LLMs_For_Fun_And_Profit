{
  "nbformat": 4,
  "nbformat_minor": 0,
  "metadata": {
    "colab": {
      "provenance": []
    },
    "kernelspec": {
      "name": "python3",
      "display_name": "Python 3"
    },
    "language_info": {
      "name": "python"
    },
    "widgets": {
      "application/vnd.jupyter.widget-state+json": {
        "4c99301b9aa64df6851e1f02bf6e4744": {
          "model_module": "@jupyter-widgets/output",
          "model_name": "OutputModel",
          "model_module_version": "1.0.0",
          "state": {
            "_dom_classes": [],
            "_model_module": "@jupyter-widgets/output",
            "_model_module_version": "1.0.0",
            "_model_name": "OutputModel",
            "_view_count": null,
            "_view_module": "@jupyter-widgets/output",
            "_view_module_version": "1.0.0",
            "_view_name": "OutputView",
            "layout": "IPY_MODEL_a9e65ab925af4c529bf0379d62e09590",
            "msg_id": "",
            "outputs": [
              {
                "output_type": "stream",
                "name": "stdout",
                "text": [
                  "# Goldman Sachs Consolidated Summary Report\n",
                  "\n",
                  "**Date:** March 1, 2024  \n",
                  "**Prepared by:** [Your Name], Analyst  \n",
                  "**Recipient:** Managing Director, Goldman Sachs\n",
                  "\n",
                  "---\n",
                  "\n",
                  "## Executive Summary\n",
                  "\n",
                  "The Monetary Policy Report from the Board of Governors of the Federal Reserve System provides a comprehensive overview of the current economic landscape and the Federal Reserve's monetary policy stance. Key sectors such as technology, healthcare, and finance are analyzed, with insights into market trends influenced by regulatory changes and geopolitical events. The document covers market analysis, sector performance, stock recommendations, risk assessment, and concludes with recommendations on maintaining a diversified investment portfolio.\n",
                  "\n",
                  "## Market Analysis\n",
                  "\n",
                  "In-depth analysis of equity, commodity, and currency markets reveals the influence of factors such as interest rates, inflation, and GDP growth. The document discusses market movements and trends affecting various sectors and provides valuable insights for investors.\n",
                  "\n",
                  "## Sector Performance\n",
                  "\n",
                  "A breakdown of sector performance highlights top-performing industries and emerging trends. The technology sector shines, while traditional retail faces challenges. The report identifies sector-specific opportunities and risks for investors to consider.\n",
                  "\n",
                  "## Stock Recommendations\n",
                  "\n",
                  "Stock recommendations based on fundamental analysis and market trends are offered across different sectors. Investors can leverage these recommendations to make informed decisions on buying, holding, or selling specific company shares.\n",
                  "\n",
                  "## Risk Assessment\n",
                  "\n",
                  "A comprehensive risk assessment identifies potential risks such as regulatory changes, economic downturns, and geopolitical tensions. The report provides recommendations for managing and mitigating these risks in the current market environment.\n",
                  "\n",
                  "## Inflation and Energy Prices\n",
                  "\n",
                  "The document delves into domestic developments related to inflation and consumer energy prices. While inflation has moderated, it remains elevated, and consumer energy prices have seen a decline with some upward pressures from geopolitical factors.\n",
                  "\n",
                  "## Employment Trends\n",
                  "\n",
                  "Insights into employment trends across demographic groups highlight shifts in prime-age women and minority workers' employment levels. The impact of economic expansions on narrowing employment disparities is underscored, emphasizing the importance of understanding demographic dynamics in the labor market.\n",
                  "\n",
                  "## Monetary Policy and Interest Rate Forecasts\n",
                  "\n",
                  "The Federal Reserve's stance on wage growth, labor productivity, and inflation pressures is detailed. Interest rate forecasts suggest a decrease in the policy rate following the FOMC meeting, with insights into Treasury and corporate bond yields and credit quality in financial markets.\n",
                  "\n",
                  "## Housing Market Developments\n",
                  "\n",
                  "Recent developments in the housing market, influenced by low mortgage rates and interest rate fluctuations, are discussed. The interplay between housing supply, demand, and interest rates shapes home prices and market dynamics, impacting both existing and new home sales.\n",
                  "\n",
                  "## Financial Market Analysis\n",
                  "\n",
                  "The report highlights recent economic and financial developments in the banking sector and internationally. It discusses factors impacting bank credit growth, lending standards, and profitability, alongside subdued foreign economic growth affecting advanced foreign economies.\n",
                  "\n",
                  "## Federal Open Market Committee (FOMC) Updates\n",
                  "\n",
                  "Insights from recent FOMC meetings emphasize the target federal funds rate, inflation risks, and balance sheet reduction. Projections for real GDP growth, unemployment rates, inflation, and the federal funds rate convey the Federal Reserve's monetary policy outlook and strategies.\n",
                  "\n",
                  "## Economic Projections and Uncertainty\n",
                  "\n",
                  "The report provides economic projections for GDP growth, inflation, and interest rates, with visual representations of confidence intervals and risks around the forecasts. Participants' assessments of uncertainty and risks underscore the challenges of predicting economic outcomes accurately.\n",
                  "\n",
                  "## Conclusion\n",
                  "\n",
                  "The Monetary Policy Report offers a thorough analysis of the current economic landscape, guiding investors and policymakers in navigating market trends and potential risks. The Federal Reserve's monetary policy stance, interest rate forecasts, and economic projections provide valuable insights for decision-making in the dynamic financial environment.\n",
                  "\n",
                  "---\n",
                  "\n",
                  "This consolidated summary report encapsulates key insights from the Monetary Policy Report, offering a holistic view of the economic landscape, market trends, and monetary policy stance. The detailed analysis and forecasts presented in the report serve as critical reference points for investors and policymakers in navigating the evolving economic environment.\n"
                ]
              }
            ]
          }
        },
        "a9e65ab925af4c529bf0379d62e09590": {
          "model_module": "@jupyter-widgets/base",
          "model_name": "LayoutModel",
          "model_module_version": "1.2.0",
          "state": {
            "_model_module": "@jupyter-widgets/base",
            "_model_module_version": "1.2.0",
            "_model_name": "LayoutModel",
            "_view_count": null,
            "_view_module": "@jupyter-widgets/base",
            "_view_module_version": "1.2.0",
            "_view_name": "LayoutView",
            "align_content": null,
            "align_items": null,
            "align_self": null,
            "border": "1px solid black",
            "bottom": null,
            "display": null,
            "flex": null,
            "flex_flow": null,
            "grid_area": null,
            "grid_auto_columns": null,
            "grid_auto_flow": null,
            "grid_auto_rows": null,
            "grid_column": null,
            "grid_gap": null,
            "grid_row": null,
            "grid_template_areas": null,
            "grid_template_columns": null,
            "grid_template_rows": null,
            "height": null,
            "justify_content": null,
            "justify_items": null,
            "left": null,
            "margin": null,
            "max_height": null,
            "max_width": null,
            "min_height": null,
            "min_width": null,
            "object_fit": null,
            "object_position": null,
            "order": null,
            "overflow": null,
            "overflow_x": null,
            "overflow_y": null,
            "padding": null,
            "right": null,
            "top": null,
            "visibility": null,
            "width": null
          }
        }
      }
    }
  },
  "cells": [
    {
      "cell_type": "markdown",
      "source": [
        "**Author:** Ronny Ashar\n",
        "<br>\n",
        "**Date:** May 2024\n",
        "<br>\n",
        "**Description:** this notebook demonstrates using OpenAI and some basic prompt engineering for document summarization. Since we want to be able to summarize large documents which may exceed the token limits of some models, we summarize in chunks a few pages at a time, and then consolidate those into a final report\n",
        "<br>\n",
        "**Note:** some code copied and modified from #StanfordTech16 examples*\n"
      ],
      "metadata": {
        "id": "iFtntBKaKWxy"
      }
    },
    {
      "cell_type": "code",
      "execution_count": null,
      "metadata": {
        "id": "E7a4rVv22KLW",
        "colab": {
          "base_uri": "https://localhost:8080/"
        },
        "outputId": "69a74aff-0e7c-4b88-b3b0-d57df3f56846"
      },
      "outputs": [
        {
          "output_type": "stream",
          "name": "stdout",
          "text": [
            "Collecting openai\n",
            "  Downloading openai-1.30.1-py3-none-any.whl (320 kB)\n",
            "\u001b[?25l     \u001b[90m━━━━━━━━━━━━━━━━━━━━━━━━━━━━━━━━━━━━━━━━\u001b[0m \u001b[32m0.0/320.6 kB\u001b[0m \u001b[31m?\u001b[0m eta \u001b[36m-:--:--\u001b[0m\r\u001b[2K     \u001b[91m━━━━━━━━━━━━━━\u001b[0m\u001b[90m╺\u001b[0m\u001b[90m━━━━━━━━━━━━━━━━━━━━━━━━━\u001b[0m \u001b[32m112.6/320.6 kB\u001b[0m \u001b[31m3.1 MB/s\u001b[0m eta \u001b[36m0:00:01\u001b[0m\r\u001b[2K     \u001b[90m━━━━━━━━━━━━━━━━━━━━━━━━━━━━━━━━━━━━━━━━\u001b[0m \u001b[32m320.6/320.6 kB\u001b[0m \u001b[31m4.9 MB/s\u001b[0m eta \u001b[36m0:00:00\u001b[0m\n",
            "\u001b[?25hRequirement already satisfied: anyio<5,>=3.5.0 in /usr/local/lib/python3.10/dist-packages (from openai) (3.7.1)\n",
            "Requirement already satisfied: distro<2,>=1.7.0 in /usr/lib/python3/dist-packages (from openai) (1.7.0)\n",
            "Collecting httpx<1,>=0.23.0 (from openai)\n",
            "  Downloading httpx-0.27.0-py3-none-any.whl (75 kB)\n",
            "\u001b[2K     \u001b[90m━━━━━━━━━━━━━━━━━━━━━━━━━━━━━━━━━━━━━━━━\u001b[0m \u001b[32m75.6/75.6 kB\u001b[0m \u001b[31m9.0 MB/s\u001b[0m eta \u001b[36m0:00:00\u001b[0m\n",
            "\u001b[?25hRequirement already satisfied: pydantic<3,>=1.9.0 in /usr/local/lib/python3.10/dist-packages (from openai) (2.7.1)\n",
            "Requirement already satisfied: sniffio in /usr/local/lib/python3.10/dist-packages (from openai) (1.3.1)\n",
            "Requirement already satisfied: tqdm>4 in /usr/local/lib/python3.10/dist-packages (from openai) (4.66.4)\n",
            "Requirement already satisfied: typing-extensions<5,>=4.7 in /usr/local/lib/python3.10/dist-packages (from openai) (4.11.0)\n",
            "Requirement already satisfied: idna>=2.8 in /usr/local/lib/python3.10/dist-packages (from anyio<5,>=3.5.0->openai) (3.7)\n",
            "Requirement already satisfied: exceptiongroup in /usr/local/lib/python3.10/dist-packages (from anyio<5,>=3.5.0->openai) (1.2.1)\n",
            "Requirement already satisfied: certifi in /usr/local/lib/python3.10/dist-packages (from httpx<1,>=0.23.0->openai) (2024.2.2)\n",
            "Collecting httpcore==1.* (from httpx<1,>=0.23.0->openai)\n",
            "  Downloading httpcore-1.0.5-py3-none-any.whl (77 kB)\n",
            "\u001b[2K     \u001b[90m━━━━━━━━━━━━━━━━━━━━━━━━━━━━━━━━━━━━━━━━\u001b[0m \u001b[32m77.9/77.9 kB\u001b[0m \u001b[31m12.4 MB/s\u001b[0m eta \u001b[36m0:00:00\u001b[0m\n",
            "\u001b[?25hCollecting h11<0.15,>=0.13 (from httpcore==1.*->httpx<1,>=0.23.0->openai)\n",
            "  Downloading h11-0.14.0-py3-none-any.whl (58 kB)\n",
            "\u001b[2K     \u001b[90m━━━━━━━━━━━━━━━━━━━━━━━━━━━━━━━━━━━━━━━━\u001b[0m \u001b[32m58.3/58.3 kB\u001b[0m \u001b[31m8.3 MB/s\u001b[0m eta \u001b[36m0:00:00\u001b[0m\n",
            "\u001b[?25hRequirement already satisfied: annotated-types>=0.4.0 in /usr/local/lib/python3.10/dist-packages (from pydantic<3,>=1.9.0->openai) (0.6.0)\n",
            "Requirement already satisfied: pydantic-core==2.18.2 in /usr/local/lib/python3.10/dist-packages (from pydantic<3,>=1.9.0->openai) (2.18.2)\n",
            "Installing collected packages: h11, httpcore, httpx, openai\n",
            "Successfully installed h11-0.14.0 httpcore-1.0.5 httpx-0.27.0 openai-1.30.1\n"
          ]
        }
      ],
      "source": [
        "!pip install openai"
      ]
    },
    {
      "cell_type": "markdown",
      "source": [
        "will need an OpenAI account to authenticate and use API Key\n",
        "refer to this documentation for setup instructions: https://platform.openai.com/docs/api-reference/introduction"
      ],
      "metadata": {
        "id": "ntZ-Bop-MkkZ"
      }
    },
    {
      "cell_type": "code",
      "source": [
        "from google.colab import userdata\n",
        "api_key = userdata.get('open_ai_key')"
      ],
      "metadata": {
        "id": "yXdcxZqJ2zR2"
      },
      "execution_count": null,
      "outputs": []
    },
    {
      "cell_type": "code",
      "source": [
        "!pip install pypdf"
      ],
      "metadata": {
        "colab": {
          "base_uri": "https://localhost:8080/"
        },
        "id": "uQETWOJ8Hdfk",
        "outputId": "ce91ad7c-3d60-4862-a2c0-e1c4f39430f1"
      },
      "execution_count": null,
      "outputs": [
        {
          "output_type": "stream",
          "name": "stdout",
          "text": [
            "Collecting pypdf\n",
            "  Downloading pypdf-4.2.0-py3-none-any.whl (290 kB)\n",
            "\u001b[?25l     \u001b[90m━━━━━━━━━━━━━━━━━━━━━━━━━━━━━━━━━━━━━━━━\u001b[0m \u001b[32m0.0/290.4 kB\u001b[0m \u001b[31m?\u001b[0m eta \u001b[36m-:--:--\u001b[0m\r\u001b[2K     \u001b[91m━━━━━━━━━━━━\u001b[0m\u001b[91m╸\u001b[0m\u001b[90m━━━━━━━━━━━━━━━━━━━━━━━━━━━\u001b[0m \u001b[32m92.2/290.4 kB\u001b[0m \u001b[31m2.6 MB/s\u001b[0m eta \u001b[36m0:00:01\u001b[0m\r\u001b[2K     \u001b[90m━━━━━━━━━━━━━━━━━━━━━━━━━━━━━━━━━━━━━━━━\u001b[0m \u001b[32m290.4/290.4 kB\u001b[0m \u001b[31m4.8 MB/s\u001b[0m eta \u001b[36m0:00:00\u001b[0m\n",
            "\u001b[?25hRequirement already satisfied: typing_extensions>=4.0 in /usr/local/lib/python3.10/dist-packages (from pypdf) (4.11.0)\n",
            "Installing collected packages: pypdf\n",
            "Successfully installed pypdf-4.2.0\n"
          ]
        }
      ]
    },
    {
      "cell_type": "code",
      "source": [
        "from openai import OpenAI\n",
        "import requests"
      ],
      "metadata": {
        "id": "aXBqpbwB6MVN"
      },
      "execution_count": null,
      "outputs": []
    },
    {
      "cell_type": "code",
      "source": [
        "client = OpenAI(api_key=api_key)"
      ],
      "metadata": {
        "id": "zdcy2vRxAizl"
      },
      "execution_count": null,
      "outputs": []
    },
    {
      "cell_type": "markdown",
      "source": [
        "We'll download the Federal Reserve's Monetory Policy Report which is a 71 page document, then use chunking to generate summaries for 5-page chunks, and then consolidate into a final report. In case of smaller documents chunking is not needed"
      ],
      "metadata": {
        "id": "YCwzRNKXNMim"
      }
    },
    {
      "cell_type": "code",
      "source": [
        "!curl  -o fed_notes.pdf https://www.federalreserve.gov/publications/files/20240301_mprfullreport.pdf"
      ],
      "metadata": {
        "colab": {
          "base_uri": "https://localhost:8080/"
        },
        "id": "VQygtamoKz2y",
        "outputId": "7444f56f-9b67-492e-fbdb-c41daf3dae65"
      },
      "execution_count": null,
      "outputs": [
        {
          "output_type": "stream",
          "name": "stdout",
          "text": [
            "  % Total    % Received % Xferd  Average Speed   Time    Time     Time  Current\n",
            "                                 Dload  Upload   Total   Spent    Left  Speed\n",
            "100 5081k  100 5081k    0     0  14.1M      0 --:--:-- --:--:-- --:--:-- 14.1M\n"
          ]
        }
      ]
    },
    {
      "cell_type": "code",
      "source": [
        "def summarize_document(document):\n",
        "    # Call OpenAI API for summarization\n",
        "\n",
        "      summary = client.chat.completions.create(\n",
        "          model = \"gpt-3.5-turbo\",\n",
        "          #temperature=0.9,\n",
        "          max_tokens=500,\n",
        "          messages = [\n",
        "              {\"role\": \"system\", \"content\": \"You are an analyst at Golamn Sachs summarizing sections of a document for a report your team will send to a managing director. Please summarize and be sure to include all relevant details\"},\n",
        "              {\"role\": \"user\", \"content\": document}\n",
        "          ]\n",
        "      )\n",
        "\n",
        "      return summary"
      ],
      "metadata": {
        "id": "Rcrt1XjlXQTH"
      },
      "execution_count": null,
      "outputs": []
    },
    {
      "cell_type": "code",
      "source": [
        "from pypdf import PdfReader\n",
        "\n",
        "reader = PdfReader(\"fed_notes.pdf\")\n",
        "num_pages = len(reader.pages)"
      ],
      "metadata": {
        "id": "2INHUBoK5Q78"
      },
      "execution_count": null,
      "outputs": []
    },
    {
      "cell_type": "code",
      "source": [
        "def getText(reader, start_page, end_page):\n",
        "      consolidated_text=''\n",
        "      for num in range(start_page, end_page+1):\n",
        "        page = reader.pages[start_page]\n",
        "        text = page.extract_text()\n",
        "        consolidated_text += text\n",
        "      return consolidated_text"
      ],
      "metadata": {
        "id": "MlV6UWJgNaPy"
      },
      "execution_count": null,
      "outputs": []
    },
    {
      "cell_type": "markdown",
      "source": [
        "Note: below cell page range loop generated by ChatGPT, then I mad eminor edit to insert in the call to my summarize_document function"
      ],
      "metadata": {
        "id": "SEHjrP8ROrgF"
      }
    },
    {
      "cell_type": "code",
      "source": [
        "total_pages = num_pages\n",
        "pages_per_batch = 5\n",
        "\n",
        "summaries = ''\n",
        "for i in range(0, total_pages, pages_per_batch):\n",
        "    start_page = i\n",
        "    end_page = min(i + pages_per_batch - 1, total_pages)\n",
        "    print(f\"Summarizing pages {start_page} to {end_page}\")\n",
        "    summary = summarize_document(getText(reader, start_page, end_page))\n",
        "    summaries += (summary.choices[0].message.content)"
      ],
      "metadata": {
        "colab": {
          "base_uri": "https://localhost:8080/"
        },
        "id": "Pa3hcfDLLDSJ",
        "outputId": "91b14744-b0aa-4fec-edb0-b48cc6b55a70"
      },
      "execution_count": null,
      "outputs": [
        {
          "output_type": "stream",
          "name": "stdout",
          "text": [
            "Summarizing pages 0 to 4\n",
            "Summarizing pages 5 to 9\n",
            "Summarizing pages 10 to 14\n",
            "Summarizing pages 15 to 19\n",
            "Summarizing pages 20 to 24\n",
            "Summarizing pages 25 to 29\n",
            "Summarizing pages 30 to 34\n",
            "Summarizing pages 35 to 39\n",
            "Summarizing pages 40 to 44\n",
            "Summarizing pages 45 to 49\n",
            "Summarizing pages 50 to 54\n",
            "Summarizing pages 55 to 59\n",
            "Summarizing pages 60 to 64\n",
            "Summarizing pages 65 to 69\n",
            "Summarizing pages 70 to 71\n"
          ]
        }
      ]
    },
    {
      "cell_type": "markdown",
      "source": [
        "In the below cell we simply take the concatenated summaries and use the exact original prompt to have is do the consolidated summarization. We can contrast that with a few cells below where we provide more specific instructions regarding the format and length of consolidated report"
      ],
      "metadata": {
        "id": "XiWflolKPd3e"
      }
    },
    {
      "cell_type": "code",
      "source": [
        "consolidated_summary=summarize_document(summaries)"
      ],
      "metadata": {
        "id": "2x9UZt-BRNBL"
      },
      "execution_count": null,
      "outputs": []
    },
    {
      "cell_type": "code",
      "source": [
        "print(consolidated_summary.choices[0].message.content)"
      ],
      "metadata": {
        "colab": {
          "base_uri": "https://localhost:8080/"
        },
        "id": "LUHChZmsS_Ft",
        "outputId": "f60ce776-2bcd-455b-88a3-4b400e0a166c"
      },
      "execution_count": null,
      "outputs": [
        {
          "output_type": "stream",
          "name": "stdout",
          "text": [
            "The Monetary Policy Report from the Board of Governors of the Federal Reserve System for March 1, 2024, provides a comprehensive overview of key economic indicators and factors influencing the Federal Reserve's monetary policy decisions. The report covers various aspects including market trends, sector performance, stock recommendations, risk assessment, inflation, employment trends, wage growth, housing market developments, interest rates, and foreign economic growth. It highlights the importance of understanding the current state of the economy and the Federal Reserve's perspective to guide investment decisions. Key points discussed in the document include:\n",
            "\n",
            "1. **Inflation**: Inflation has eased but remains elevated, with the price index for personal consumption expenditures (PCE) still above the Federal Open Market Committee's (FOMC) longer-run objective of 2 percent. Core PCE prices and consumer energy prices have also shown fluctuations influenced by geopolitical tensions.\n",
            "\n",
            "2. **Employment Trends**: The report highlights significant increases in employment among prime-age women and Black or African American workers, emphasizing narrowing employment gaps across demographic groups.\n",
            "\n",
            "3. **Wage Growth and Labor Productivity**: Wage growth has slowed but remains elevated, while labor productivity in the business sector strengthened. The report underscores the importance of monitoring wage growth, productivity growth, and inflation pressures.\n",
            "\n",
            "4. **Housing Market Developments**: The housing market has seen reduced supply of existing homes for sale, impacting home prices. Demand and supply dynamics, influenced by interest rates and mortgage rates, have shaped the housing market trends.\n",
            "\n",
            "5. **Interest Rates and Financial Markets**: The report indicates potential decreases in the federal funds rate following the FOMC meeting in March, with fluctuations in Treasury yields and corporate bond yields. Bank credit growth has decelerated, and international economic growth has slowed, impacting AFEs.\n",
            "\n",
            "6. **Future Economic Projections**: Participant projections for real GDP growth, unemployment rates, inflation, and the federal funds rate indicate expectations for moderate growth, stable unemployment, and a gradual decrease in inflation rates over the forecast period.\n",
            "\n",
            "7. **Uncertainty and Risks**: The report discusses uncertainty in projections of PCE inflation, highlighting discrepancies between historical forecast errors and current assessments of uncertainty and risks among FOMC participants.\n",
            "\n",
            "The document's economic projections provide essential insights into the potential range of GDP growth and inflation, emphasizing the inherent uncertainty and risks associated with economic forecasting. These projections serve as a crucial tool for policymakers in understanding the rationale behind monetary policy decisions and navigating the complexities of the economy.\n"
          ]
        }
      ]
    },
    {
      "cell_type": "code",
      "source": [
        "len(consolidated_summary.choices[0].message.content)"
      ],
      "metadata": {
        "colab": {
          "base_uri": "https://localhost:8080/"
        },
        "id": "3vU38vDoQAHO",
        "outputId": "a3daabf4-3463-4707-cf0b-eb9793e4f9ac"
      },
      "execution_count": null,
      "outputs": [
        {
          "output_type": "execute_result",
          "data": {
            "text/plain": [
              "2903"
            ]
          },
          "metadata": {},
          "execution_count": 17
        }
      ]
    },
    {
      "cell_type": "markdown",
      "source": [
        "In the below cell our prompt is a bit more specific, asking for a 3-page summary"
      ],
      "metadata": {
        "id": "sVzQ3RY0QE7H"
      }
    },
    {
      "cell_type": "code",
      "source": [
        "summary_report = client.chat.completions.create(\n",
        "    model = \"gpt-3.5-turbo\",\n",
        "    #temperature=0.9,\n",
        "    #max_tokens=500,\n",
        "    messages = [\n",
        "        {\"role\": \"system\", \"content\": \"You are an analyst at Golamn Sachs preparing a consoliated summary report to send to a managing director. \\\n",
        "        Please do a 10-page summary including relevant details. Make sure the summary is at least 5000 word length. \\\n",
        "        Be sure to include details on employment trends and interest rate forecasts!\"},\n",
        "        {\"role\": \"user\", \"content\": summaries}\n",
        "    ]\n",
        ")"
      ],
      "metadata": {
        "id": "rRKhgw1rYLqc"
      },
      "execution_count": null,
      "outputs": []
    },
    {
      "cell_type": "code",
      "source": [
        "from ipywidgets import widgets\n",
        "out = widgets.Output(layout={'border': '1px solid black'})"
      ],
      "metadata": {
        "id": "p8FphrdASqLN"
      },
      "execution_count": null,
      "outputs": []
    },
    {
      "cell_type": "code",
      "source": [
        "with out:\n",
        "  print(summary_report.choices[0].message.content)\n",
        "\n",
        "out"
      ],
      "metadata": {
        "id": "FlbfGsAgLlgF",
        "colab": {
          "base_uri": "https://localhost:8080/",
          "height": 1000,
          "referenced_widgets": [
            "4c99301b9aa64df6851e1f02bf6e4744",
            "a9e65ab925af4c529bf0379d62e09590"
          ]
        },
        "outputId": "1d7bd109-1e65-462c-a7c9-422c29412204"
      },
      "execution_count": null,
      "outputs": [
        {
          "output_type": "display_data",
          "data": {
            "text/plain": [
              "Output(layout=Layout(border='1px solid black'))"
            ],
            "application/vnd.jupyter.widget-view+json": {
              "version_major": 2,
              "version_minor": 0,
              "model_id": "4c99301b9aa64df6851e1f02bf6e4744"
            }
          },
          "metadata": {}
        }
      ]
    },
    {
      "cell_type": "code",
      "source": [
        "len(summary_report.choices[0].message.content)"
      ],
      "metadata": {
        "id": "pMPS08WaSV7c",
        "colab": {
          "base_uri": "https://localhost:8080/"
        },
        "outputId": "43004a45-7eba-4247-a31c-aef24d79c7f6"
      },
      "execution_count": null,
      "outputs": [
        {
          "output_type": "execute_result",
          "data": {
            "text/plain": [
              "4794"
            ]
          },
          "metadata": {},
          "execution_count": 41
        }
      ]
    },
    {
      "cell_type": "code",
      "source": [],
      "metadata": {
        "id": "DOgcyR7hQhpL"
      },
      "execution_count": null,
      "outputs": []
    }
  ]
}